{
 "cells": [
  {
   "cell_type": "markdown",
   "id": "6e7750aa-4375-4656-bf92-03d8f4d47091",
   "metadata": {},
   "source": [
    "### Import del dataset e print del tipo di ciascuna colonna prima del cleaning"
   ]
  },
  {
   "cell_type": "markdown",
   "id": "26aac78e-f62c-4a6a-ac7a-ed8f8905319a",
   "metadata": {},
   "source": [
    "### Nel dataset i -1 corrispondono a dei Missing Values"
   ]
  },
  {
   "cell_type": "code",
   "execution_count": 1,
   "id": "b3a42267-3f65-4ec2-bc95-0c4260fcb267",
   "metadata": {},
   "outputs": [
    {
     "name": "stdout",
     "output_type": "stream",
     "text": [
      "\n",
      " Types of columns \n",
      "\n",
      "BGGId                    int64\n",
      "Name                    object\n",
      "Description             object\n",
      "YearPublished            int64\n",
      "GameWeight             float64\n",
      "ComWeight              float64\n",
      "MinPlayers               int64\n",
      "MaxPlayers               int64\n",
      "ComAgeRec              float64\n",
      "LanguageEase           float64\n",
      "BestPlayers              int64\n",
      "GoodPlayers             object\n",
      "NumOwned                 int64\n",
      "NumWant                  int64\n",
      "NumWish                  int64\n",
      "NumWeightVotes           int64\n",
      "MfgPlaytime              int64\n",
      "ComMinPlaytime           int64\n",
      "ComMaxPlaytime           int64\n",
      "MfgAgeRec                int64\n",
      "NumUserRatings           int64\n",
      "NumComments              int64\n",
      "NumAlternates            int64\n",
      "NumExpansions            int64\n",
      "NumImplementations       int64\n",
      "IsReimplementation       int64\n",
      "Family                  object\n",
      "Kickstarted              int64\n",
      "ImagePath               object\n",
      "Rank:strategygames       int64\n",
      "Rank:abstracts           int64\n",
      "Rank:familygames         int64\n",
      "Rank:thematic            int64\n",
      "Rank:cgs                 int64\n",
      "Rank:wargames            int64\n",
      "Rank:partygames          int64\n",
      "Rank:childrensgames      int64\n",
      "Cat:Thematic             int64\n",
      "Cat:Strategy             int64\n",
      "Cat:War                  int64\n",
      "Cat:Family               int64\n",
      "Cat:CGS                  int64\n",
      "Cat:Abstract             int64\n",
      "Cat:Party                int64\n",
      "Cat:Childrens            int64\n",
      "Rating                  object\n",
      "dtype: object\n"
     ]
    }
   ],
   "source": [
    "import pandas as pd\n",
    "import numpy as np\n",
    "\n",
    "\n",
    "df = pd.read_csv(f'DM1_game_dataset.csv')\n",
    "df = df.copy()\n",
    "\n",
    "#print the types of the columns\n",
    "print('\\n Types of columns \\n')\n",
    "print(df.dtypes)"
   ]
  },
  {
   "cell_type": "markdown",
   "id": "9d56486d-36dc-4c9b-b023-67549b54d9e2",
   "metadata": {},
   "source": [
    "### Conversione della colonna \"Description\" in un set di stringhe (per evitare doppioni)"
   ]
  },
  {
   "cell_type": "code",
   "execution_count": 2,
   "id": "5862687e-e8ed-4969-9ccb-8f2cf36f63e7",
   "metadata": {},
   "outputs": [],
   "source": [
    "import re\n",
    "\n",
    "def clean_Description(text):\n",
    "    #Gestisce NaN\n",
    "    if not isinstance(text, str):\n",
    "        return set()\n",
    "    #Rimuove simboli come { } [ ] ' , \"\n",
    "    cleaned = re.sub(r\"[{}\\[\\]',\\\"]\", \" \", text)\n",
    "    # Divide in parole e rimuove spazi vuoti\n",
    "    words = [w for w in cleaned.strip().split() if w]\n",
    "    return set(words)\n",
    "\n",
    "df[\"Description\"] = df[\"Description\"].apply(clean_Description)\n",
    "\n"
   ]
  },
  {
   "cell_type": "markdown",
   "id": "56352adf-f394-4976-bf9a-4b94760b920f",
   "metadata": {},
   "source": [
    "### Sostituisco gli 0 e i NaN in YearPublished, GameeWeight, ComWeight, ComAgeRec, LangaugeEase, MfgPlaytime e MfgAgeRec con -1"
   ]
  },
  {
   "cell_type": "code",
   "execution_count": 3,
   "id": "41fc0475-1412-4081-b0ad-c4d12ed99e6e",
   "metadata": {},
   "outputs": [],
   "source": [
    "# DEfinisco le colonne su cui fare l'operazione\n",
    "cols = [\"YearPublished\", \"GameWeight\", \"ComWeight\", \n",
    "        \"ComAgeRec\", \"LanguageEase\", \"MfgPlaytime\", \"MfgAgeRec\"]\n",
    "\n",
    "# Sostituisci 0 e NaN con -1\n",
    "df[cols] = df[cols].replace(0, np.nan).fillna(-1)\n",
    "\n",
    "#Converto le colonne che devono essere intere in int\n",
    "\n",
    "df[[\"YearPublished\", \"MfgPlaytime\", \"MfgAgeRec\"]] = (\n",
    "    df[[\"YearPublished\", \"MfgPlaytime\", \"MfgAgeRec\"]].astype(int)\n",
    ")\n",
    "\n"
   ]
  },
  {
   "cell_type": "markdown",
   "id": "a5a5ccc8-7651-4a1c-9c54-e01e576e7dfa",
   "metadata": {},
   "source": [
    "### Verifica che MinPlayers<=MaxPlayers. Nel caso così non fosse scambio i valori delle due colonne"
   ]
  },
  {
   "cell_type": "code",
   "execution_count": 4,
   "id": "0e628d6d-ed65-48cf-92c0-46e6ceaf5718",
   "metadata": {},
   "outputs": [
    {
     "name": "stdout",
     "output_type": "stream",
     "text": [
      "Righe con MaxPlayers = 0 (sostituito con -1):\n",
      "       MinPlayers  MaxPlayers\n",
      "206             2           0\n",
      "209             1           0\n",
      "268             0           0\n",
      "604             2           0\n",
      "640             1           0\n",
      "...           ...         ...\n",
      "21082           2           0\n",
      "21201           2           0\n",
      "21243           0           0\n",
      "21246           1           0\n",
      "21365           2           0\n",
      "\n",
      "[173 rows x 2 columns]\n",
      "Righe con MinPlayers = 0 (sostituito con -1):\n",
      "       MinPlayers  MaxPlayers\n",
      "268             0          -1\n",
      "733             0           2\n",
      "1104            0           2\n",
      "1333            0          -1\n",
      "1486            0          -1\n",
      "1576            0           2\n",
      "2805            0          -1\n",
      "3019            0          -1\n",
      "3522            0          -1\n",
      "3597            0          -1\n",
      "3936            0          -1\n",
      "5372            0          -1\n",
      "5621            0           1\n",
      "6189            0          -1\n",
      "6909            0          -1\n",
      "8137            0          -1\n",
      "8866            0           2\n",
      "9279            0          -1\n",
      "9511            0          -1\n",
      "10306           0          -1\n",
      "11512           0          -1\n",
      "12580           0          -1\n",
      "13090           0          -1\n",
      "13250           0          -1\n",
      "13553           0           4\n",
      "14486           0          -1\n",
      "14658           0          -1\n",
      "15355           0          -1\n",
      "15555           0          -1\n",
      "15669           0          -1\n",
      "15776           0           2\n",
      "15927           0          -1\n",
      "16015           0          -1\n",
      "16959           0          -1\n",
      "17767           0          -1\n",
      "17978           0          -1\n",
      "18201           0          -1\n",
      "18431           0          -1\n",
      "18483           0           4\n",
      "18833           0          -1\n",
      "18965           0          -1\n",
      "19064           0          -1\n",
      "19360           0          -1\n",
      "19664           0          -1\n",
      "20016           0          -1\n",
      "20104           0          -1\n",
      "20440           0          -1\n",
      "20603           0          -1\n",
      "21243           0          -1\n",
      "21280           0           2\n"
     ]
    }
   ],
   "source": [
    "# Maschera per righe dove entrambi > 0 e MinPlayers > ComMaxPlaytime → scambio\n",
    "mask_swap = (\n",
    "    (df[\"MinPlayers\"] > 0) &\n",
    "    (df[\"MaxPlayers\"] > 0) &\n",
    "    (df[\"MinPlayers\"] > df[\"MaxPlayers\"])\n",
    ")\n",
    "\n",
    "# Maschera per righe dove MaxPlayers == 0 → sostituisci con -1\n",
    "mask_max_fix = (df[\"MaxPlayers\"] == 0)\n",
    "\n",
    "#  Maschera per righe dove MinPlayers == 0 → sostituisci con -1\n",
    "mask_min_fix = (df[\"MinPlayers\"] == 0)\n",
    "\n",
    "\n",
    "# Scambio dei valori\n",
    "if mask_swap.any():\n",
    "    print(\"Righe con MinPlayers > MaxPlayers trovate:\")\n",
    "    print(df.loc[mask_swap, [\"MinPlayers\", \"MaxPlayers\"]])\n",
    "    df.loc[mask_swap, [\"MinPlayers\", \"MaxPlayers\"]] = (\n",
    "        df.loc[mask_swap, [\"MaxPlayers\", \"MinPlayers\"]].values\n",
    "    )\n",
    "\n",
    "# Correzione MaxPlayers = 0 → -1\n",
    "if mask_max_fix.any():\n",
    "    print(\"Righe con MaxPlayers = 0 (sostituito con -1):\")\n",
    "    print(df.loc[mask_max_fix, [\"MinPlayers\", \"MaxPlayers\"]])\n",
    "    df.loc[mask_max_fix, \"MaxPlayers\"] = -1\n",
    "\n",
    "# Correzione MinPlayers = 0 → -1\n",
    "if mask_min_fix.any():\n",
    "    print(\"Righe con MinPlayers = 0 (sostituito con -1):\")\n",
    "    print(df.loc[mask_min_fix, [\"MinPlayers\", \"MaxPlayers\"]])\n",
    "    df.loc[mask_min_fix, \"MinPlayers\"] = -1\n",
    "\n",
    "\n",
    "# Messaggio finale\n",
    "if not (mask_swap.any() or mask_max_fix.any() or mask_min_fix.any()):\n",
    "    print(\"Tutti i valori di MinPlayers e MaxPlayers sono coerenti.\")\n"
   ]
  },
  {
   "cell_type": "markdown",
   "id": "88df507f-d62d-4fee-b902-1397662fdd16",
   "metadata": {},
   "source": [
    "### Converte GoodPlayers in set e verifica che BestPlayers sia in GoodPlayers. Ho notato che gli unici valori in GoodPlayers che danno fastidio sono nella forma int + '+', quindi semplicemente rimuovo il '+' e creo la lista. Successivamente verifica se BestPlayers è in GoodPlayers, nel caso non fosse così sostituisce il valore di BestPlayers con un -1."
   ]
  },
  {
   "cell_type": "code",
   "execution_count": 5,
   "id": "aa1d4656-c54f-43ec-b503-6777f2e1017c",
   "metadata": {},
   "outputs": [],
   "source": [
    "import ast\n",
    "\n",
    "# Funzione per convertire in set di interi\n",
    "def clean_GoodPlayers(s):\n",
    "    try:\n",
    "        items = ast.literal_eval(s)  # converte la stringa in lista\n",
    "    except Exception:\n",
    "        return set()  # ritorna un set vuoto se fallisce\n",
    "    \n",
    "    result = set()\n",
    "    for item in items:\n",
    "        try:\n",
    "            # Rimuove eventuale '+' alla fine e converte in int\n",
    "            result.add(int(str(item).rstrip('+')))\n",
    "        except ValueError:\n",
    "            print(item)  # per debug\n",
    "            continue  # ignora altri valori non convertibili\n",
    "    return result\n",
    "\n",
    "# Applica la conversione\n",
    "df[\"GoodPlayers\"] = df[\"GoodPlayers\"].apply(clean_GoodPlayers)\n",
    "\n",
    "# Verifica che BestPlayers sia presente nel set, sennò sostituisce il valore con un -1\n",
    "df[\"BestPlayers\"] = df.apply(\n",
    "    lambda row: row[\"BestPlayers\"] if row[\"BestPlayers\"] in row[\"GoodPlayers\"] else -1,\n",
    "    axis=1\n",
    ")\n"
   ]
  },
  {
   "cell_type": "markdown",
   "id": "134e9935-b86e-470a-840d-3d6eeae646ba",
   "metadata": {},
   "source": [
    "### Il codice controlla che i tempi minimi e massimi di gioco (ComMinPlaytime, ComMaxPlaytime) siano coerenti: scambia i valori se sono invertiti, sostituisce gli zeri con -1, e segnala tutte le modifiche effettuate."
   ]
  },
  {
   "cell_type": "code",
   "execution_count": 6,
   "id": "dc92044c-f251-4098-977a-0e7357a705e9",
   "metadata": {},
   "outputs": [
    {
     "name": "stdout",
     "output_type": "stream",
     "text": [
      "Righe con ComMinPlaytime > ComMaxPlaytime trovate:\n",
      "       ComMinPlaytime  ComMaxPlaytime\n",
      "3326               20               1\n",
      "14500              45              30\n",
      "19239              90              60\n",
      "20545              25              15\n",
      "Righe con ComMaxPlaytime = 0 (sostituito con -1):\n",
      "       ComMinPlaytime  ComMaxPlaytime\n",
      "6                   0               0\n",
      "100                45               0\n",
      "112                 0               0\n",
      "116                 0               0\n",
      "135                 0               0\n",
      "...               ...             ...\n",
      "21790               0               0\n",
      "21812               0               0\n",
      "21817               0               0\n",
      "21837               0               0\n",
      "21914               0               0\n",
      "\n",
      "[780 rows x 2 columns]\n",
      "Righe con ComMinPlaytime = 0 (sostituito con -1):\n",
      "       ComMinPlaytime  ComMaxPlaytime\n",
      "6                   0              -1\n",
      "112                 0              -1\n",
      "116                 0              -1\n",
      "135                 0              -1\n",
      "154                 0              -1\n",
      "...               ...             ...\n",
      "21790               0              -1\n",
      "21812               0              -1\n",
      "21817               0              -1\n",
      "21837               0              -1\n",
      "21914               0              -1\n",
      "\n",
      "[652 rows x 2 columns]\n"
     ]
    }
   ],
   "source": [
    "# Maschera per righe dove entrambi > 0 e ComMinPlaytime > ComMaxPlaytime → scambio\n",
    "mask_swap = (\n",
    "    (df[\"ComMinPlaytime\"] > 0) &\n",
    "    (df[\"ComMaxPlaytime\"] > 0) &\n",
    "    (df[\"ComMinPlaytime\"] > df[\"ComMaxPlaytime\"])\n",
    ")\n",
    "\n",
    "# Maschera per righe dove ComMaxPlaytime == 0 → sostituisci con -1\n",
    "mask_max_fix = (df[\"ComMaxPlaytime\"] == 0)\n",
    "\n",
    "#  Maschera per righe dove ComMinPlaytime == 0 → sostituisci con -1\n",
    "mask_min_fix = (df[\"ComMinPlaytime\"] == 0)\n",
    "\n",
    "\n",
    "# Scambio dei valori\n",
    "if mask_swap.any():\n",
    "    print(\"Righe con ComMinPlaytime > ComMaxPlaytime trovate:\")\n",
    "    print(df.loc[mask_swap, [\"ComMinPlaytime\", \"ComMaxPlaytime\"]])\n",
    "    df.loc[mask_swap, [\"ComMinPlaytime\", \"ComMaxPlaytime\"]] = (\n",
    "        df.loc[mask_swap, [\"ComMaxPlaytime\", \"ComMinPlaytime\"]].values\n",
    "    )\n",
    "\n",
    "# Correzione ComMaxPlaytime = 0 → -1\n",
    "if mask_max_fix.any():\n",
    "    print(\"Righe con ComMaxPlaytime = 0 (sostituito con -1):\")\n",
    "    print(df.loc[mask_max_fix, [\"ComMinPlaytime\", \"ComMaxPlaytime\"]])\n",
    "    df.loc[mask_max_fix, \"ComMaxPlaytime\"] = -1\n",
    "\n",
    "# Correzione ComMinPlaytime = 0 → -1\n",
    "if mask_min_fix.any():\n",
    "    print(\"Righe con ComMinPlaytime = 0 (sostituito con -1):\")\n",
    "    print(df.loc[mask_min_fix, [\"ComMinPlaytime\", \"ComMaxPlaytime\"]])\n",
    "    df.loc[mask_min_fix, \"ComMinPlaytime\"] = -1\n",
    "\n",
    "\n",
    "# Messaggio finale\n",
    "if not (mask_swap.any() or mask_max_fix.any() or mask_min_fix.any()):\n",
    "    print(\"Tutti i valori di ComMinPlaytime e ComMaxPlaytime sono coerenti.\")\n"
   ]
  },
  {
   "cell_type": "markdown",
   "id": "fc64a2b6-a803-4865-a025-86c5ec9f1065",
   "metadata": {},
   "source": [
    "### In NumComments verifica che sono tutti 0 e poi elimina la colonna"
   ]
  },
  {
   "cell_type": "code",
   "execution_count": 7,
   "id": "be15974b-c36a-4a5e-946f-3551a47434cb",
   "metadata": {},
   "outputs": [
    {
     "name": "stdout",
     "output_type": "stream",
     "text": [
      "Colonna 'NumComments' rimossa: tutti i valori erano 0.\n"
     ]
    }
   ],
   "source": [
    "# Verifica se tutti i valori sono 0 (ignorando eventuali NaN)\n",
    "if (df[\"NumComments\"].fillna(0) == 0).all():\n",
    "    df = df.drop(columns=[\"NumComments\"])\n",
    "    print(\"Colonna 'NumComments' rimossa: tutti i valori erano 0.\")\n",
    "else:\n",
    "    print(\"Colonna 'NumComments' NON rimossa: contiene valori diversi da 0.\")\n"
   ]
  },
  {
   "cell_type": "markdown",
   "id": "16dabc71-bf66-4615-b91d-3811c234a9dd",
   "metadata": {},
   "source": [
    "# Tutte le modifiche vengono inserite in un DF chiamato cleaned_df.csv"
   ]
  },
  {
   "cell_type": "code",
   "execution_count": 8,
   "id": "82bbf5f2-0f74-4c3f-ac57-c59755a558f4",
   "metadata": {},
   "outputs": [],
   "source": [
    "df.to_csv(\"cleaned_df.csv\", index=False)"
   ]
  },
  {
   "cell_type": "code",
   "execution_count": 9,
   "id": "1e8e466a-15e8-4f6a-a1b1-4b4f7fcfe279",
   "metadata": {},
   "outputs": [
    {
     "name": "stdout",
     "output_type": "stream",
     "text": [
      "\n",
      " Types of columns \n",
      "\n",
      "BGGId                    int64\n",
      "Name                    object\n",
      "Description             object\n",
      "YearPublished            int64\n",
      "GameWeight             float64\n",
      "ComWeight              float64\n",
      "MinPlayers               int64\n",
      "MaxPlayers               int64\n",
      "ComAgeRec              float64\n",
      "LanguageEase           float64\n",
      "BestPlayers              int64\n",
      "GoodPlayers             object\n",
      "NumOwned                 int64\n",
      "NumWant                  int64\n",
      "NumWish                  int64\n",
      "NumWeightVotes           int64\n",
      "MfgPlaytime              int64\n",
      "ComMinPlaytime           int64\n",
      "ComMaxPlaytime           int64\n",
      "MfgAgeRec                int64\n",
      "NumUserRatings           int64\n",
      "NumAlternates            int64\n",
      "NumExpansions            int64\n",
      "NumImplementations       int64\n",
      "IsReimplementation       int64\n",
      "Family                  object\n",
      "Kickstarted              int64\n",
      "ImagePath               object\n",
      "Rank:strategygames       int64\n",
      "Rank:abstracts           int64\n",
      "Rank:familygames         int64\n",
      "Rank:thematic            int64\n",
      "Rank:cgs                 int64\n",
      "Rank:wargames            int64\n",
      "Rank:partygames          int64\n",
      "Rank:childrensgames      int64\n",
      "Cat:Thematic             int64\n",
      "Cat:Strategy             int64\n",
      "Cat:War                  int64\n",
      "Cat:Family               int64\n",
      "Cat:CGS                  int64\n",
      "Cat:Abstract             int64\n",
      "Cat:Party                int64\n",
      "Cat:Childrens            int64\n",
      "Rating                  object\n",
      "dtype: object\n"
     ]
    }
   ],
   "source": [
    "#print the types of the columns\n",
    "print('\\n Types of columns \\n')\n",
    "print(df.dtypes)"
   ]
  }
 ],
 "metadata": {
  "kernelspec": {
   "display_name": "Python 3 (ipykernel)",
   "language": "python",
   "name": "python3"
  },
  "language_info": {
   "codemirror_mode": {
    "name": "ipython",
    "version": 3
   },
   "file_extension": ".py",
   "mimetype": "text/x-python",
   "name": "python",
   "nbconvert_exporter": "python",
   "pygments_lexer": "ipython3",
   "version": "3.10.12"
  }
 },
 "nbformat": 4,
 "nbformat_minor": 5
}
