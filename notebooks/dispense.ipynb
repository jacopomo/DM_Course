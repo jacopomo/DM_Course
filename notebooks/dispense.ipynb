{
 "cells": [
  {
   "cell_type": "markdown",
   "id": "9f5320af-853f-4ccb-9b3c-7e2f0e136763",
   "metadata": {},
   "source": [
    "# Data Mining: Fundamentals\n",
    "## Jacopo Omodei e Michelangelo Leoni\n",
    "\n",
    "-----"
   ]
  },
  {
   "cell_type": "markdown",
   "id": "455ed4e4-26e9-4b3f-b8e7-62fba1520871",
   "metadata": {},
   "source": [
    "# Table of contents\n",
    "\n",
    "[Intro](#intro)\n",
    "\n",
    "------"
   ]
  },
  {
   "cell_type": "markdown",
   "id": "a3c48c0f-3c8a-4d05-b201-1a8a0c29345c",
   "metadata": {},
   "source": [
    "# Introduction\n",
    "\n",
    "<a id=\"intro\"></a>\n",
    "\n",
    "------"
   ]
  },
  {
   "cell_type": "code",
   "execution_count": null,
   "id": "cf061b8c-39ee-4a43-972f-016d50a0d166",
   "metadata": {},
   "outputs": [],
   "source": []
  }
 ],
 "metadata": {
  "kernelspec": {
   "display_name": "Python 3 (ipykernel)",
   "language": "python",
   "name": "python3"
  },
  "language_info": {
   "codemirror_mode": {
    "name": "ipython",
    "version": 3
   },
   "file_extension": ".py",
   "mimetype": "text/x-python",
   "name": "python",
   "nbconvert_exporter": "python",
   "pygments_lexer": "ipython3",
   "version": "3.11.0"
  }
 },
 "nbformat": 4,
 "nbformat_minor": 5
}
